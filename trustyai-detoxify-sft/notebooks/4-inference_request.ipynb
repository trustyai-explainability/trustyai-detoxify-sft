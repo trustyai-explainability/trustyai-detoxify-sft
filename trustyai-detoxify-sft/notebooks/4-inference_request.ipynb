{
 "cells": [
  {
   "cell_type": "code",
   "execution_count": 5,
   "id": "123c398c-c1f5-47e4-ad32-dc4fa863d3b9",
   "metadata": {
    "tags": []
   },
   "outputs": [
    {
     "name": "stdout",
     "output_type": "stream",
     "text": [
      "Collecting caikit-nlp-client\n",
      "  Downloading caikit_nlp_client-0.0.8-py3-none-any.whl (14 kB)\n",
      "Requirement already satisfied: requests==2.31.0 in /opt/app-root/lib/python3.9/site-packages (from caikit-nlp-client) (2.31.0)\n",
      "Collecting grpcio-reflection==1.59.3\n",
      "  Downloading grpcio_reflection-1.59.3-py3-none-any.whl (21 kB)\n",
      "Requirement already satisfied: grpcio>=1.59.3 in /opt/app-root/lib/python3.9/site-packages (from grpcio-reflection==1.59.3->caikit-nlp-client) (1.62.2)\n",
      "Requirement already satisfied: protobuf>=4.21.6 in /opt/app-root/lib/python3.9/site-packages (from grpcio-reflection==1.59.3->caikit-nlp-client) (4.25.3)\n",
      "Requirement already satisfied: urllib3<3,>=1.21.1 in /opt/app-root/lib/python3.9/site-packages (from requests==2.31.0->caikit-nlp-client) (1.26.18)\n",
      "Requirement already satisfied: idna<4,>=2.5 in /opt/app-root/lib/python3.9/site-packages (from requests==2.31.0->caikit-nlp-client) (3.6)\n",
      "Requirement already satisfied: charset-normalizer<4,>=2 in /opt/app-root/lib/python3.9/site-packages (from requests==2.31.0->caikit-nlp-client) (3.3.2)\n",
      "Requirement already satisfied: certifi>=2017.4.17 in /opt/app-root/lib/python3.9/site-packages (from requests==2.31.0->caikit-nlp-client) (2024.2.2)\n",
      "Installing collected packages: grpcio-reflection, caikit-nlp-client\n",
      "  Attempting uninstall: grpcio-reflection\n",
      "    Found existing installation: grpcio-reflection 1.62.2\n",
      "    Uninstalling grpcio-reflection-1.62.2:\n",
      "      Successfully uninstalled grpcio-reflection-1.62.2\n",
      "Successfully installed caikit-nlp-client-0.0.8 grpcio-reflection-1.59.3\n",
      "\n",
      "\u001b[1m[\u001b[0m\u001b[34;49mnotice\u001b[0m\u001b[1;39;49m]\u001b[0m\u001b[39;49m A new release of pip available: \u001b[0m\u001b[31;49m22.2.2\u001b[0m\u001b[39;49m -> \u001b[0m\u001b[32;49m24.0\u001b[0m\n",
      "\u001b[1m[\u001b[0m\u001b[34;49mnotice\u001b[0m\u001b[1;39;49m]\u001b[0m\u001b[39;49m To update, run: \u001b[0m\u001b[32;49mpip install --upgrade pip\u001b[0m\n"
     ]
    }
   ],
   "source": [
    "!pip install caikit-nlp-client"
   ]
  },
  {
   "cell_type": "code",
   "execution_count": 6,
   "id": "86ed6095-6f0b-4dc1-b6a7-7a5050825442",
   "metadata": {
    "tags": []
   },
   "outputs": [],
   "source": [
    "from caikit_nlp_client import HttpClient"
   ]
  },
  {
   "cell_type": "code",
   "execution_count": 7,
   "id": "4b574a55-dbc6-4750-b485-fd51c2595869",
   "metadata": {
    "tags": []
   },
   "outputs": [],
   "source": [
    "infer_endpoint = \"https://opt-350m-caikit-detoxify-sft.apps.rosa.trustyai2024-v2.vgty.p3.openshiftapps.com\"\n",
    "infer_url = f\"{infer_endpoint}/api/v1/task/text-generation\"\n",
    "model_id = \"opt-350m-caikit\"\n",
    "# str_infer_url = f\"{infer_endpoint}/api/v1/task/server-streaming-text-generation\""
   ]
  },
  {
   "cell_type": "code",
   "execution_count": 9,
   "id": "212f6d95-b7f8-4236-8c38-6073938b59ca",
   "metadata": {
    "tags": []
   },
   "outputs": [
    {
     "name": "stderr",
     "output_type": "stream",
     "text": [
      "/opt/app-root/lib64/python3.9/site-packages/urllib3/connectionpool.py:1061: InsecureRequestWarning: Unverified HTTPS request is being made to host 'opt-350m-caikit-detoxify-sft.apps.rosa.trustyai2024-v2.vgty.p3.openshiftapps.com'. Adding certificate verification is strongly advised. See: https://urllib3.readthedocs.io/en/1.26.x/advanced-usage.html#ssl-warnings\n",
      "  warnings.warn(\n"
     ]
    },
    {
     "data": {
      "text/plain": [
       "'\\n\\nThe cat in the hat is a cat named \"Cat in the Hat\" who lives in'"
      ]
     },
     "execution_count": 9,
     "metadata": {},
     "output_type": "execute_result"
    }
   ],
   "source": [
    "http_client = HttpClient(infer_endpoint, verify=False)\n",
    "text = http_client.generate_text(model_id, \"Prompt: the cat in the hat\\n\\nContinuation:\")\n",
    "text"
   ]
  },
  {
   "cell_type": "code",
   "execution_count": null,
   "id": "73e0424e-f359-4bce-9e99-8df4a820a1a9",
   "metadata": {},
   "outputs": [],
   "source": []
  }
 ],
 "metadata": {
  "kernelspec": {
   "display_name": "Python 3.9",
   "language": "python",
   "name": "python3"
  },
  "language_info": {
   "codemirror_mode": {
    "name": "ipython",
    "version": 3
   },
   "file_extension": ".py",
   "mimetype": "text/x-python",
   "name": "python",
   "nbconvert_exporter": "python",
   "pygments_lexer": "ipython3",
   "version": "3.9.18"
  }
 },
 "nbformat": 4,
 "nbformat_minor": 5
}
